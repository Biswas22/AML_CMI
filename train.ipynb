{
 "cells": [
  {
   "cell_type": "markdown",
   "id": "718d2a4e",
   "metadata": {},
   "source": [
    "**Importing the required libraries**"
   ]
  },
  {
   "cell_type": "code",
   "execution_count": 16,
   "id": "a3b46f03",
   "metadata": {},
   "outputs": [],
   "source": [
    "import pandas as pd\n",
    "import numpy as np\n",
    "import regex as re\n",
    "import nltk\n",
    "import string\n",
    "from sklearn.feature_extraction.text import CountVectorizer, TfidfTransformer\n",
    "from sklearn.naive_bayes import MultinomialNB\n",
    "from sklearn.linear_model import LogisticRegression\n",
    "from sklearn.metrics import classification_report, f1_score, accuracy_score, confusion_matrix\n",
    "from sklearn.svm import SVC\n",
    "import warnings\n",
    "warnings.filterwarnings(\"ignore\")\n",
    "import random\n",
    "random.seed(1024)"
   ]
  },
  {
   "cell_type": "markdown",
   "id": "95e28823",
   "metadata": {},
   "source": [
    "**Reading in the train, test and validation data**"
   ]
  },
  {
   "cell_type": "code",
   "execution_count": 17,
   "id": "1772eccd",
   "metadata": {},
   "outputs": [],
   "source": [
    "path_train = './data/train.csv'\n",
    "path_val = './data/validation.csv'\n",
    "path_test = './data/test.csv'\n",
    "path_mod_df = './data/mod_df.csv'\n",
    "\n",
    "train_df = pd.read_csv(path_train)\n",
    "val_df = pd.read_csv(path_val)\n",
    "test_df = pd.read_csv(path_test)\n",
    "mod_df = pd.read_csv(path_mod_df)"
   ]
  },
  {
   "cell_type": "markdown",
   "id": "b6170573",
   "metadata": {},
   "source": [
    "**Creating the bag of words transformer**"
   ]
  },
  {
   "cell_type": "code",
   "execution_count": 18,
   "id": "294da4bc",
   "metadata": {},
   "outputs": [
    {
     "name": "stdout",
     "output_type": "stream",
     "text": [
      "7331\n"
     ]
    }
   ],
   "source": [
    "vectorizer = CountVectorizer()\n",
    "vectorizer.fit(train_df.X_train)\n",
    "\n",
    "bow_transformer = vectorizer.vocabulary_\n",
    "print(len(bow_transformer))"
   ]
  },
  {
   "cell_type": "markdown",
   "id": "e33c7016",
   "metadata": {},
   "source": [
    "**Converting all the data to be used into bag of words form**"
   ]
  },
  {
   "cell_type": "code",
   "execution_count": 19,
   "id": "66ebcdc8",
   "metadata": {},
   "outputs": [
    {
     "name": "stdout",
     "output_type": "stream",
     "text": [
      "(4514, 7331) (502, 7331) (558, 7331)\n"
     ]
    }
   ],
   "source": [
    "X_train = vectorizer.transform(train_df.X_train)\n",
    "X_val = vectorizer.transform(val_df.X_val)\n",
    "X_test = vectorizer.transform(test_df.X_test)\n",
    "\n",
    "print(X_train.shape, X_val.shape, X_test.shape)"
   ]
  },
  {
   "cell_type": "markdown",
   "id": "25aa93de",
   "metadata": {},
   "source": [
    "**Creating the tf-idf transformer**"
   ]
  },
  {
   "cell_type": "code",
   "execution_count": 20,
   "id": "ee4842b9",
   "metadata": {},
   "outputs": [],
   "source": [
    "tfidf_transformer = TfidfTransformer().fit(X_train)"
   ]
  },
  {
   "cell_type": "markdown",
   "id": "7bcb00d9",
   "metadata": {},
   "source": [
    "**Converting the data into tf-idf form**"
   ]
  },
  {
   "cell_type": "code",
   "execution_count": 21,
   "id": "92865a47",
   "metadata": {},
   "outputs": [
    {
     "name": "stdout",
     "output_type": "stream",
     "text": [
      "(4514, 7331) (502, 7331) (558, 7331)\n"
     ]
    }
   ],
   "source": [
    "tfidf_X_train = tfidf_transformer.transform(X_train)\n",
    "tfidf_X_val = tfidf_transformer.transform(X_val)\n",
    "tfidf_X_test = tfidf_transformer.transform(X_test)\n",
    "\n",
    "print(tfidf_X_train.shape, tfidf_X_val.shape, tfidf_X_test.shape)"
   ]
  },
  {
   "cell_type": "markdown",
   "id": "620f8dc3",
   "metadata": {},
   "source": [
    "**Multinomial Naive Bayes Model based on tf-idf tokenizer**"
   ]
  },
  {
   "cell_type": "markdown",
   "id": "3fa7d9ce",
   "metadata": {},
   "source": [
    "**Creating the spam detection model and computing the evaluation metrics for the predicted values based on the validation set**"
   ]
  },
  {
   "cell_type": "code",
   "execution_count": 22,
   "id": "3e04325e",
   "metadata": {},
   "outputs": [
    {
     "name": "stdout",
     "output_type": "stream",
     "text": [
      "Alpha: 0.05 \n",
      " Accuracy Score: 0.9920318725099602 \n",
      "               precision    recall  f1-score   support\n",
      "\n",
      "         ham       0.99      1.00      1.00       440\n",
      "        spam       1.00      0.94      0.97        62\n",
      "\n",
      "    accuracy                           0.99       502\n",
      "   macro avg       1.00      0.97      0.98       502\n",
      "weighted avg       0.99      0.99      0.99       502\n",
      "\n",
      "\n",
      "Confusion Matrix:\n",
      " [[440   0]\n",
      " [  4  58]] \n",
      "\n",
      "\n",
      "Alpha: 0.3 \n",
      " Accuracy Score: 0.9880478087649402 \n",
      "               precision    recall  f1-score   support\n",
      "\n",
      "         ham       0.99      1.00      0.99       440\n",
      "        spam       1.00      0.90      0.95        62\n",
      "\n",
      "    accuracy                           0.99       502\n",
      "   macro avg       0.99      0.95      0.97       502\n",
      "weighted avg       0.99      0.99      0.99       502\n",
      "\n",
      "\n",
      "Confusion Matrix:\n",
      " [[440   0]\n",
      " [  6  56]] \n",
      "\n",
      "\n",
      "Alpha: 0.55 \n",
      " Accuracy Score: 0.9860557768924303 \n",
      "               precision    recall  f1-score   support\n",
      "\n",
      "         ham       0.98      1.00      0.99       440\n",
      "        spam       1.00      0.89      0.94        62\n",
      "\n",
      "    accuracy                           0.99       502\n",
      "   macro avg       0.99      0.94      0.97       502\n",
      "weighted avg       0.99      0.99      0.99       502\n",
      "\n",
      "\n",
      "Confusion Matrix:\n",
      " [[440   0]\n",
      " [  7  55]] \n",
      "\n",
      "\n",
      "Alpha: 0.8 \n",
      " Accuracy Score: 0.9820717131474104 \n",
      "               precision    recall  f1-score   support\n",
      "\n",
      "         ham       0.98      1.00      0.99       440\n",
      "        spam       1.00      0.85      0.92        62\n",
      "\n",
      "    accuracy                           0.98       502\n",
      "   macro avg       0.99      0.93      0.96       502\n",
      "weighted avg       0.98      0.98      0.98       502\n",
      "\n",
      "\n",
      "Confusion Matrix:\n",
      " [[440   0]\n",
      " [  9  53]] \n",
      "\n",
      "\n",
      "Alpha: 1.05 \n",
      " Accuracy Score: 0.9780876494023905 \n",
      "               precision    recall  f1-score   support\n",
      "\n",
      "         ham       0.98      1.00      0.99       440\n",
      "        spam       1.00      0.82      0.90        62\n",
      "\n",
      "    accuracy                           0.98       502\n",
      "   macro avg       0.99      0.91      0.95       502\n",
      "weighted avg       0.98      0.98      0.98       502\n",
      "\n",
      "\n",
      "Confusion Matrix:\n",
      " [[440   0]\n",
      " [ 11  51]] \n",
      "\n",
      "\n",
      "Alpha: 1.3 \n",
      " Accuracy Score: 0.9741035856573705 \n",
      "               precision    recall  f1-score   support\n",
      "\n",
      "         ham       0.97      1.00      0.99       440\n",
      "        spam       1.00      0.79      0.88        62\n",
      "\n",
      "    accuracy                           0.97       502\n",
      "   macro avg       0.99      0.90      0.93       502\n",
      "weighted avg       0.97      0.97      0.97       502\n",
      "\n",
      "\n",
      "Confusion Matrix:\n",
      " [[440   0]\n",
      " [ 13  49]] \n",
      "\n",
      "\n",
      "Alpha: 1.55 \n",
      " Accuracy Score: 0.9721115537848606 \n",
      "               precision    recall  f1-score   support\n",
      "\n",
      "         ham       0.97      1.00      0.98       440\n",
      "        spam       1.00      0.77      0.87        62\n",
      "\n",
      "    accuracy                           0.97       502\n",
      "   macro avg       0.98      0.89      0.93       502\n",
      "weighted avg       0.97      0.97      0.97       502\n",
      "\n",
      "\n",
      "Confusion Matrix:\n",
      " [[440   0]\n",
      " [ 14  48]] \n",
      "\n",
      "\n",
      "Alpha: 1.8 \n",
      " Accuracy Score: 0.9701195219123506 \n",
      "               precision    recall  f1-score   support\n",
      "\n",
      "         ham       0.97      1.00      0.98       440\n",
      "        spam       1.00      0.76      0.86        62\n",
      "\n",
      "    accuracy                           0.97       502\n",
      "   macro avg       0.98      0.88      0.92       502\n",
      "weighted avg       0.97      0.97      0.97       502\n",
      "\n",
      "\n",
      "Confusion Matrix:\n",
      " [[440   0]\n",
      " [ 15  47]] \n",
      "\n",
      "\n",
      "Alpha: 2.05 \n",
      " Accuracy Score: 0.9641434262948207 \n",
      "               precision    recall  f1-score   support\n",
      "\n",
      "         ham       0.96      1.00      0.98       440\n",
      "        spam       1.00      0.71      0.83        62\n",
      "\n",
      "    accuracy                           0.96       502\n",
      "   macro avg       0.98      0.85      0.91       502\n",
      "weighted avg       0.97      0.96      0.96       502\n",
      "\n",
      "\n",
      "Confusion Matrix:\n",
      " [[440   0]\n",
      " [ 18  44]] \n",
      "\n",
      "\n"
     ]
    }
   ],
   "source": [
    "for i in np.arange(0.05, 2.25, 0.25):\n",
    "    spam_detection_model = MultinomialNB(alpha = i).fit(tfidf_X_train, train_df.y_train)\n",
    "    val_predictions = spam_detection_model.predict(tfidf_X_val)\n",
    "    print(\"Alpha:\", i, \"\\n\",\"Accuracy Score:\",accuracy_score(val_df.y_val, val_predictions), '\\n', classification_report(val_df.y_val, val_predictions))\n",
    "    print(\"\\nConfusion Matrix:\\n\",confusion_matrix(val_df.y_val, val_predictions),\"\\n\\n\")"
   ]
  },
  {
   "cell_type": "markdown",
   "id": "16bd7e07",
   "metadata": {},
   "source": [
    "Best value is for alpha = 0.05"
   ]
  },
  {
   "cell_type": "markdown",
   "id": "4dd55ab0",
   "metadata": {},
   "source": [
    "**Computing the predicted values on the test set based on the best model**"
   ]
  },
  {
   "cell_type": "code",
   "execution_count": 23,
   "id": "6d385787",
   "metadata": {},
   "outputs": [],
   "source": [
    "spam_detector_model_best = MultinomialNB(alpha = 0.05).fit(tfidf_X_train, train_df.y_train)\n",
    "test_predictions = spam_detection_model.predict(tfidf_X_test)"
   ]
  },
  {
   "cell_type": "markdown",
   "id": "aacf4fce",
   "metadata": {},
   "source": [
    "**Computing the evaluation metrics for the predicted values based on the test set**"
   ]
  },
  {
   "cell_type": "code",
   "execution_count": 24,
   "id": "7f3d1340",
   "metadata": {},
   "outputs": [
    {
     "name": "stdout",
     "output_type": "stream",
     "text": [
      "Accuracy Score: 0.9408602150537635 \n",
      "               precision    recall  f1-score   support\n",
      "\n",
      "         ham       0.94      1.00      0.97       478\n",
      "        spam       1.00      0.59      0.74        80\n",
      "\n",
      "    accuracy                           0.94       558\n",
      "   macro avg       0.97      0.79      0.85       558\n",
      "weighted avg       0.94      0.94      0.93       558\n",
      "\n",
      "\n",
      "Confusion Matrix:\n",
      " [[478   0]\n",
      " [ 33  47]] \n",
      "\n",
      "\n"
     ]
    }
   ],
   "source": [
    "print(\"Accuracy Score:\",accuracy_score(test_df.y_test, test_predictions), '\\n',classification_report(test_df.y_test, test_predictions))\n",
    "print(\"\\nConfusion Matrix:\\n\",confusion_matrix(test_df.y_test, test_predictions),\"\\n\\n\")"
   ]
  },
  {
   "cell_type": "markdown",
   "id": "40ccd016",
   "metadata": {},
   "source": [
    "**Logistic Regression Model based on tf-idf tokenizer**"
   ]
  },
  {
   "cell_type": "markdown",
   "id": "8abf6240",
   "metadata": {},
   "source": [
    "**Creating the spam detection model and computing the evaluation metrics for the predicted values based on the validation set**"
   ]
  },
  {
   "cell_type": "code",
   "execution_count": 25,
   "id": "1070a3f3",
   "metadata": {},
   "outputs": [
    {
     "name": "stdout",
     "output_type": "stream",
     "text": [
      "C = 0.1 \n",
      "Accuracy Score 0.8764940239043825 \n",
      "               precision    recall  f1-score   support\n",
      "\n",
      "         ham       0.88      1.00      0.93       440\n",
      "        spam       0.00      0.00      0.00        62\n",
      "\n",
      "    accuracy                           0.88       502\n",
      "   macro avg       0.44      0.50      0.47       502\n",
      "weighted avg       0.77      0.88      0.82       502\n",
      "\n",
      "\n",
      "Confusion Matrix:\n",
      " [[440   0]\n",
      " [ 62   0]] \n",
      "\n",
      "\n",
      "C = 0.5 \n",
      "Accuracy Score 0.952191235059761 \n",
      "               precision    recall  f1-score   support\n",
      "\n",
      "         ham       0.95      1.00      0.97       440\n",
      "        spam       0.97      0.63      0.76        62\n",
      "\n",
      "    accuracy                           0.95       502\n",
      "   macro avg       0.96      0.81      0.87       502\n",
      "weighted avg       0.95      0.95      0.95       502\n",
      "\n",
      "\n",
      "Confusion Matrix:\n",
      " [[439   1]\n",
      " [ 23  39]] \n",
      "\n",
      "\n",
      "C = 1 \n",
      "Accuracy Score 0.9760956175298805 \n",
      "               precision    recall  f1-score   support\n",
      "\n",
      "         ham       0.98      1.00      0.99       440\n",
      "        spam       0.98      0.82      0.89        62\n",
      "\n",
      "    accuracy                           0.98       502\n",
      "   macro avg       0.98      0.91      0.94       502\n",
      "weighted avg       0.98      0.98      0.98       502\n",
      "\n",
      "\n",
      "Confusion Matrix:\n",
      " [[439   1]\n",
      " [ 11  51]] \n",
      "\n",
      "\n",
      "C = 10 \n",
      "Accuracy Score 0.9880478087649402 \n",
      "               precision    recall  f1-score   support\n",
      "\n",
      "         ham       0.99      1.00      0.99       440\n",
      "        spam       1.00      0.90      0.95        62\n",
      "\n",
      "    accuracy                           0.99       502\n",
      "   macro avg       0.99      0.95      0.97       502\n",
      "weighted avg       0.99      0.99      0.99       502\n",
      "\n",
      "\n",
      "Confusion Matrix:\n",
      " [[440   0]\n",
      " [  6  56]] \n",
      "\n",
      "\n",
      "C = 20 \n",
      "Accuracy Score 0.9880478087649402 \n",
      "               precision    recall  f1-score   support\n",
      "\n",
      "         ham       0.99      1.00      0.99       440\n",
      "        spam       1.00      0.90      0.95        62\n",
      "\n",
      "    accuracy                           0.99       502\n",
      "   macro avg       0.99      0.95      0.97       502\n",
      "weighted avg       0.99      0.99      0.99       502\n",
      "\n",
      "\n",
      "Confusion Matrix:\n",
      " [[440   0]\n",
      " [  6  56]] \n",
      "\n",
      "\n",
      "C = 50 \n",
      "Accuracy Score 0.9880478087649402 \n",
      "               precision    recall  f1-score   support\n",
      "\n",
      "         ham       0.99      1.00      0.99       440\n",
      "        spam       1.00      0.90      0.95        62\n",
      "\n",
      "    accuracy                           0.99       502\n",
      "   macro avg       0.99      0.95      0.97       502\n",
      "weighted avg       0.99      0.99      0.99       502\n",
      "\n",
      "\n",
      "Confusion Matrix:\n",
      " [[440   0]\n",
      " [  6  56]] \n",
      "\n",
      "\n",
      "C = 100 \n",
      "Accuracy Score 0.9900398406374502 \n",
      "               precision    recall  f1-score   support\n",
      "\n",
      "         ham       0.99      1.00      0.99       440\n",
      "        spam       1.00      0.92      0.96        62\n",
      "\n",
      "    accuracy                           0.99       502\n",
      "   macro avg       0.99      0.96      0.98       502\n",
      "weighted avg       0.99      0.99      0.99       502\n",
      "\n",
      "\n",
      "Confusion Matrix:\n",
      " [[440   0]\n",
      " [  5  57]] \n",
      "\n",
      "\n"
     ]
    }
   ],
   "source": [
    "for i in [0.1, 0.5, 1, 10, 20, 50, 100]:\n",
    "    spam_detection_model_2 = LogisticRegression(C = i)\n",
    "    spam_detection_model_2.fit(tfidf_X_train, train_df.y_train)\n",
    "    val_predictions = spam_detection_model_2.predict(tfidf_X_val)\n",
    "    print(\"C =\",i,\"\\nAccuracy Score\",accuracy_score(val_df.y_val, val_predictions), '\\n', classification_report(val_df.y_val, val_predictions))\n",
    "    print(\"\\nConfusion Matrix:\\n\",confusion_matrix(val_df.y_val, val_predictions),\"\\n\\n\")"
   ]
  },
  {
   "cell_type": "markdown",
   "id": "8850622e",
   "metadata": {},
   "source": [
    "Best value is for C = 100"
   ]
  },
  {
   "cell_type": "markdown",
   "id": "1aea1075",
   "metadata": {},
   "source": [
    "**Computing the predicted values on the test set based on the best model**"
   ]
  },
  {
   "cell_type": "code",
   "execution_count": 26,
   "id": "f7f74d0e",
   "metadata": {},
   "outputs": [],
   "source": [
    "spam_detector_model_best = LogisticRegression(C = 100)\n",
    "test_predictions = spam_detection_model.predict(tfidf_X_test)"
   ]
  },
  {
   "cell_type": "markdown",
   "id": "ad110713",
   "metadata": {},
   "source": [
    "**Computing the evaluation metrics for the predicted values based on the test set**"
   ]
  },
  {
   "cell_type": "code",
   "execution_count": 27,
   "id": "78dc0ca5",
   "metadata": {},
   "outputs": [
    {
     "name": "stdout",
     "output_type": "stream",
     "text": [
      "Accuracy Score: 0.9408602150537635 \n",
      "               precision    recall  f1-score   support\n",
      "\n",
      "         ham       0.94      1.00      0.97       478\n",
      "        spam       1.00      0.59      0.74        80\n",
      "\n",
      "    accuracy                           0.94       558\n",
      "   macro avg       0.97      0.79      0.85       558\n",
      "weighted avg       0.94      0.94      0.93       558\n",
      "\n",
      "\n",
      "Confusion Matrix:\n",
      " [[478   0]\n",
      " [ 33  47]] \n",
      "\n",
      "\n"
     ]
    }
   ],
   "source": [
    "print(\"Accuracy Score:\",accuracy_score(test_df.y_test, test_predictions), '\\n',classification_report(test_df.y_test, test_predictions))\n",
    "print(\"\\nConfusion Matrix:\\n\",confusion_matrix(test_df.y_test, test_predictions),\"\\n\\n\")"
   ]
  },
  {
   "cell_type": "markdown",
   "id": "516f256e",
   "metadata": {},
   "source": [
    "**Support Vector Classifier Model**"
   ]
  },
  {
   "cell_type": "code",
   "execution_count": 28,
   "id": "04bd006d",
   "metadata": {},
   "outputs": [
    {
     "name": "stdout",
     "output_type": "stream",
     "text": [
      "C = 0.1 \n",
      "Accuracy Score 0.8784860557768924 \n",
      "               precision    recall  f1-score   support\n",
      "\n",
      "         ham       0.88      1.00      0.94       440\n",
      "        spam       1.00      0.02      0.03        62\n",
      "\n",
      "    accuracy                           0.88       502\n",
      "   macro avg       0.94      0.51      0.48       502\n",
      "weighted avg       0.89      0.88      0.82       502\n",
      "\n",
      "\n",
      "Confusion Matrix:\n",
      " [[440   0]\n",
      " [ 61   1]] \n",
      "\n",
      "\n",
      "C = 0.5 \n",
      "Accuracy Score 0.9820717131474104 \n",
      "               precision    recall  f1-score   support\n",
      "\n",
      "         ham       0.98      1.00      0.99       440\n",
      "        spam       1.00      0.85      0.92        62\n",
      "\n",
      "    accuracy                           0.98       502\n",
      "   macro avg       0.99      0.93      0.96       502\n",
      "weighted avg       0.98      0.98      0.98       502\n",
      "\n",
      "\n",
      "Confusion Matrix:\n",
      " [[440   0]\n",
      " [  9  53]] \n",
      "\n",
      "\n",
      "C = 1 \n",
      "Accuracy Score 0.9820717131474104 \n",
      "               precision    recall  f1-score   support\n",
      "\n",
      "         ham       0.98      1.00      0.99       440\n",
      "        spam       1.00      0.85      0.92        62\n",
      "\n",
      "    accuracy                           0.98       502\n",
      "   macro avg       0.99      0.93      0.96       502\n",
      "weighted avg       0.98      0.98      0.98       502\n",
      "\n",
      "\n",
      "Confusion Matrix:\n",
      " [[440   0]\n",
      " [  9  53]] \n",
      "\n",
      "\n",
      "C = 10 \n",
      "Accuracy Score 0.9880478087649402 \n",
      "               precision    recall  f1-score   support\n",
      "\n",
      "         ham       0.99      1.00      0.99       440\n",
      "        spam       1.00      0.90      0.95        62\n",
      "\n",
      "    accuracy                           0.99       502\n",
      "   macro avg       0.99      0.95      0.97       502\n",
      "weighted avg       0.99      0.99      0.99       502\n",
      "\n",
      "\n",
      "Confusion Matrix:\n",
      " [[440   0]\n",
      " [  6  56]] \n",
      "\n",
      "\n",
      "C = 20 \n",
      "Accuracy Score 0.9880478087649402 \n",
      "               precision    recall  f1-score   support\n",
      "\n",
      "         ham       0.99      1.00      0.99       440\n",
      "        spam       1.00      0.90      0.95        62\n",
      "\n",
      "    accuracy                           0.99       502\n",
      "   macro avg       0.99      0.95      0.97       502\n",
      "weighted avg       0.99      0.99      0.99       502\n",
      "\n",
      "\n",
      "Confusion Matrix:\n",
      " [[440   0]\n",
      " [  6  56]] \n",
      "\n",
      "\n",
      "C = 50 \n",
      "Accuracy Score 0.9880478087649402 \n",
      "               precision    recall  f1-score   support\n",
      "\n",
      "         ham       0.99      1.00      0.99       440\n",
      "        spam       1.00      0.90      0.95        62\n",
      "\n",
      "    accuracy                           0.99       502\n",
      "   macro avg       0.99      0.95      0.97       502\n",
      "weighted avg       0.99      0.99      0.99       502\n",
      "\n",
      "\n",
      "Confusion Matrix:\n",
      " [[440   0]\n",
      " [  6  56]] \n",
      "\n",
      "\n",
      "C = 100 \n",
      "Accuracy Score 0.9880478087649402 \n",
      "               precision    recall  f1-score   support\n",
      "\n",
      "         ham       0.99      1.00      0.99       440\n",
      "        spam       1.00      0.90      0.95        62\n",
      "\n",
      "    accuracy                           0.99       502\n",
      "   macro avg       0.99      0.95      0.97       502\n",
      "weighted avg       0.99      0.99      0.99       502\n",
      "\n",
      "\n",
      "Confusion Matrix:\n",
      " [[440   0]\n",
      " [  6  56]] \n",
      "\n",
      "\n"
     ]
    }
   ],
   "source": [
    "for i in [0.1, 0.5, 1, 10, 20, 50, 100]:\n",
    "    spam_detection_model_3 = SVC(C = i)\n",
    "    spam_detection_model_3.fit(tfidf_X_train, train_df.y_train)\n",
    "    val_predictions = spam_detection_model_3.predict(tfidf_X_val)\n",
    "    print(\"C =\",i,\"\\nAccuracy Score\",accuracy_score(val_df.y_val, val_predictions), '\\n', classification_report(val_df.y_val, val_predictions))\n",
    "    print(\"\\nConfusion Matrix:\\n\",confusion_matrix(val_df.y_val, val_predictions),\"\\n\\n\")"
   ]
  },
  {
   "cell_type": "markdown",
   "id": "e71916ab",
   "metadata": {},
   "source": [
    "Model performs same for nearly all values of the regularization parameter for values > 1 hence we use C = 10 in the model for evaluating the test set"
   ]
  },
  {
   "cell_type": "code",
   "execution_count": 29,
   "id": "704f1e30",
   "metadata": {},
   "outputs": [],
   "source": [
    "spam_detector_model_3_best = SVC(C = 10)\n",
    "spam_detection_model_3.fit(tfidf_X_train, train_df.y_train)\n",
    "test_predictions = spam_detection_model_3.predict(tfidf_X_test)\n"
   ]
  },
  {
   "cell_type": "markdown",
   "id": "0d678c48",
   "metadata": {},
   "source": [
    "**Computing the evaluation metrics for the predicted values based on the test set**"
   ]
  },
  {
   "cell_type": "code",
   "execution_count": 30,
   "id": "d32dcb6c",
   "metadata": {},
   "outputs": [
    {
     "name": "stdout",
     "output_type": "stream",
     "text": [
      "Accuracy Score: 0.9874551971326165 \n",
      "               precision    recall  f1-score   support\n",
      "\n",
      "         ham       0.99      1.00      0.99       478\n",
      "        spam       1.00      0.91      0.95        80\n",
      "\n",
      "    accuracy                           0.99       558\n",
      "   macro avg       0.99      0.96      0.97       558\n",
      "weighted avg       0.99      0.99      0.99       558\n",
      "\n",
      "\n",
      "Confusion Matrix:\n",
      " [[478   0]\n",
      " [  7  73]] \n",
      "\n",
      "\n"
     ]
    }
   ],
   "source": [
    "print(\"Accuracy Score:\",accuracy_score(test_df.y_test, test_predictions), '\\n',classification_report(test_df.y_test, test_predictions))\n",
    "print(\"\\nConfusion Matrix:\\n\",confusion_matrix(test_df.y_test, test_predictions),\"\\n\\n\")"
   ]
  },
  {
   "cell_type": "markdown",
   "id": "1d8bf2a8",
   "metadata": {},
   "source": [
    "Among the 3 benchmark models the Support Vector Classifier performs the best on the test set."
   ]
  }
 ],
 "metadata": {
  "kernelspec": {
   "display_name": "Python 3 (ipykernel)",
   "language": "python",
   "name": "python3"
  },
  "language_info": {
   "codemirror_mode": {
    "name": "ipython",
    "version": 3
   },
   "file_extension": ".py",
   "mimetype": "text/x-python",
   "name": "python",
   "nbconvert_exporter": "python",
   "pygments_lexer": "ipython3",
   "version": "3.8.8"
  }
 },
 "nbformat": 4,
 "nbformat_minor": 5
}
