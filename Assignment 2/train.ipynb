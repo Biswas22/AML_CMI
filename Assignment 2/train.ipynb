{
 "cells": [
  {
   "cell_type": "code",
   "execution_count": 34,
   "metadata": {},
   "outputs": [],
   "source": [
    "#Importing the required functions\n",
    "import pandas as pd\n",
    "import numpy as np\n",
    "import regex as re\n",
    "import nltk\n",
    "import string\n",
    "from sklearn.feature_extraction.text import CountVectorizer, TfidfTransformer\n",
    "from sklearn.naive_bayes import MultinomialNB\n",
    "from sklearn.linear_model import LogisticRegression\n",
    "from sklearn.metrics import classification_report, f1_score, accuracy_score, confusion_matrix\n",
    "from sklearn.metrics import average_precision_score, precision_recall_curve\n",
    "from sklearn.metrics import auc\n",
    "from sklearn.svm import SVC\n",
    "import warnings\n",
    "warnings.filterwarnings(\"ignore\")\n",
    "import random\n",
    "import mlflow\n",
    "import logging\n",
    "from urllib.parse import urlparse\n",
    "logging.basicConfig(level=logging.WARN)\n",
    "logger = logging.getLogger(__name__)\n"
   ]
  },
  {
   "attachments": {},
   "cell_type": "markdown",
   "metadata": {},
   "source": [
    "**Reading in the train, test and validation data**"
   ]
  },
  {
   "cell_type": "code",
   "execution_count": 19,
   "metadata": {},
   "outputs": [],
   "source": [
    "path_train = './data/train.csv'\n",
    "path_val = './data/validation.csv'\n",
    "path_test = './data/test.csv'\n",
    "path_mod_df = './data/mod_df.csv'\n",
    "\n",
    "train_df = pd.read_csv(path_train)\n",
    "val_df = pd.read_csv(path_val)\n",
    "test_df = pd.read_csv(path_test)\n",
    "raw_data = pd.read_csv(path_mod_df)"
   ]
  },
  {
   "cell_type": "code",
   "execution_count": 20,
   "metadata": {},
   "outputs": [],
   "source": [
    "train_df['y_train'] = train_df['y_train'].map({'ham': 1, 'spam': 0})\n",
    "val_df['y_val'] = val_df['y_val'].map({'ham': 1, 'spam': 0})\n",
    "test_df['y_test'] = test_df['y_test'].map({'ham': 1, 'spam': 0})"
   ]
  },
  {
   "attachments": {},
   "cell_type": "markdown",
   "metadata": {},
   "source": [
    "**Creating the bag of words transformer**"
   ]
  },
  {
   "cell_type": "code",
   "execution_count": 22,
   "metadata": {},
   "outputs": [
    {
     "name": "stdout",
     "output_type": "stream",
     "text": [
      "7340\n"
     ]
    }
   ],
   "source": [
    "vectorizer = CountVectorizer()\n",
    "vectorizer.fit(train_df.X_train)\n",
    "\n",
    "bow_transformer = vectorizer.vocabulary_\n",
    "print(len(bow_transformer))"
   ]
  },
  {
   "attachments": {},
   "cell_type": "markdown",
   "metadata": {},
   "source": [
    "**Converting all the data to be used into bag of words form**"
   ]
  },
  {
   "cell_type": "code",
   "execution_count": 23,
   "metadata": {},
   "outputs": [
    {
     "name": "stdout",
     "output_type": "stream",
     "text": [
      "(4514, 7340) (502, 7340) (558, 7340)\n"
     ]
    }
   ],
   "source": [
    "X_train = vectorizer.transform(train_df.X_train)\n",
    "X_val = vectorizer.transform(val_df.X_val)\n",
    "X_test = vectorizer.transform(test_df.X_test)\n",
    "\n",
    "print(X_train.shape, X_val.shape, X_test.shape)"
   ]
  },
  {
   "attachments": {},
   "cell_type": "markdown",
   "metadata": {},
   "source": [
    "**Creating the tf-idf transformer**"
   ]
  },
  {
   "cell_type": "code",
   "execution_count": 24,
   "metadata": {},
   "outputs": [],
   "source": [
    "tfidf_transformer = TfidfTransformer().fit(X_train)"
   ]
  },
  {
   "attachments": {},
   "cell_type": "markdown",
   "metadata": {},
   "source": [
    "**Converting the data into tf-idf form**"
   ]
  },
  {
   "cell_type": "code",
   "execution_count": 25,
   "metadata": {},
   "outputs": [
    {
     "name": "stdout",
     "output_type": "stream",
     "text": [
      "(4514, 7340) (502, 7340) (558, 7340)\n"
     ]
    }
   ],
   "source": [
    "tfidf_X_train = tfidf_transformer.transform(X_train)\n",
    "tfidf_X_val = tfidf_transformer.transform(X_val)\n",
    "tfidf_X_test = tfidf_transformer.transform(X_test)\n",
    "\n",
    "print(tfidf_X_train.shape, tfidf_X_val.shape, tfidf_X_test.shape)"
   ]
  },
  {
   "attachments": {},
   "cell_type": "markdown",
   "metadata": {},
   "source": [
    "**Multinomial Naive Bayes Model based on tf-idf tokenizer**"
   ]
  },
  {
   "attachments": {},
   "cell_type": "markdown",
   "metadata": {},
   "source": [
    "**Building a function to create the spam detection model and compute the evaluation metrics for the predicted values based on the test set**"
   ]
  },
  {
   "cell_type": "code",
   "execution_count": 26,
   "metadata": {},
   "outputs": [],
   "source": [
    "def MNB_model(alp):\n",
    "    spam_detection_model = MultinomialNB(alpha = alp).fit(tfidf_X_train, train_df.y_train)\n",
    "    test_predictions = spam_detection_model.predict(tfidf_X_test)\n",
    "\n",
    "    acc_sc = accuracy_score(test_df.y_test, test_predictions)\n",
    "    \n",
    "    #Computing Precision and Recall\n",
    "    precision, recall, thresholds = precision_recall_curve(test_df.y_test, test_predictions)\n",
    "    # Use AUC function to calculate the area under the curve of precision recall curve\n",
    "    aupcr = auc(recall, precision)\n",
    "    \n",
    "    conf_m = confusion_matrix(test_df.y_test, test_predictions)\n",
    "\n",
    "    #print(\"The AUPCR score is:\",aupcr)\n",
    "    return [spam_detection_model, acc_sc, aupcr, conf_m]"
   ]
  },
  {
   "attachments": {},
   "cell_type": "markdown",
   "metadata": {},
   "source": [
    "**Logistic Regression Model based on tf-idf tokenizer**"
   ]
  },
  {
   "attachments": {},
   "cell_type": "markdown",
   "metadata": {},
   "source": [
    "**Creating the spam detection model and computing the evaluation metrics for the predicted values based on the test set**"
   ]
  },
  {
   "cell_type": "code",
   "execution_count": 27,
   "metadata": {},
   "outputs": [],
   "source": [
    "def Log_model(C):\n",
    "    spam_detection_model_2 = LogisticRegression(C = i)\n",
    "    spam_detection_model_2.fit(tfidf_X_train, train_df.y_train)\n",
    "    test_predictions = spam_detection_model_2.predict(tfidf_X_test)\n",
    "    acc_sc = accuracy_score(test_df.y_test, test_predictions)\n",
    "    \n",
    "    #Computing Precision and Recall\n",
    "    precision, recall, _ = precision_recall_curve(test_df.y_test, test_predictions)\n",
    "    # Use AUC function to calculate the area under the curve of precision recall curve\n",
    "    aupcr = auc(recall, precision)\n",
    "    #print(\"The AUPCR score is:\",aupcr)\n",
    "\n",
    "    conf_m = confusion_matrix(test_df.y_test, test_predictions)\n",
    "\n",
    "    #print(\"The AUPCR score is:\",aupcr)\n",
    "    return [spam_detection_model_2, acc_sc, aupcr, conf_m]"
   ]
  },
  {
   "attachments": {},
   "cell_type": "markdown",
   "metadata": {},
   "source": [
    "**Support Vector Classifier Model**"
   ]
  },
  {
   "attachments": {},
   "cell_type": "markdown",
   "metadata": {},
   "source": [
    "**Creating the spam detection model and computing the evaluation metrics for the predicted values based on the test set**"
   ]
  },
  {
   "cell_type": "code",
   "execution_count": 43,
   "metadata": {},
   "outputs": [],
   "source": [
    "def SVC_Model(C):    \n",
    "    spam_detection_model_3 = SVC(C = i)\n",
    "    spam_detection_model_3.fit(tfidf_X_train, train_df.y_train)\n",
    "    test_predictions = spam_detection_model_3.predict(tfidf_X_test)\n",
    "    acc_sc = accuracy_score(test_df.y_test, test_predictions)\n",
    "    \n",
    "    #Computing Precision and Recall\n",
    "    precision, recall, _ = precision_recall_curve(test_df.y_test, test_predictions)\n",
    "    # Use AUC function to calculate the area under the curve of precision recall curve\n",
    "    aupcr = auc(recall, precision)\n",
    "    #print(\"The AUPCR score is:\",aupcr)\n",
    "\n",
    "    conf_m = confusion_matrix(test_df.y_test, test_predictions)\n",
    "\n",
    "    #print(\"The AUPCR score is:\",aupcr)\n",
    "    return [spam_detection_model_3, acc_sc, aupcr, conf_m]"
   ]
  },
  {
   "cell_type": "code",
   "execution_count": 29,
   "metadata": {},
   "outputs": [
    {
     "data": {
      "text/plain": [
       "<Experiment: artifact_location='\\\\mlruns/894247250466392331', creation_time=1677526330970, experiment_id='894247250466392331', last_update_time=1677526330970, lifecycle_stage='active', name='SMS Spam Classification Model Evaluation', tags={}>"
      ]
     },
     "execution_count": 29,
     "metadata": {},
     "output_type": "execute_result"
    }
   ],
   "source": [
    "from  mlflow.tracking import MlflowClient\n",
    "client = MlflowClient()\n",
    "#log into MLflow\n",
    "\n",
    "#Set storage directory\n",
    "mlflow.set_tracking_uri('\\mlruns')\n",
    "\n",
    "#set experiment\n",
    "mlflow.set_experiment('SMS Spam Classification Model Evaluation')"
   ]
  },
  {
   "cell_type": "code",
   "execution_count": 46,
   "metadata": {},
   "outputs": [
    {
     "name": "stderr",
     "output_type": "stream",
     "text": [
      "2023/02/28 02:23:16 WARNING mlflow.utils.autologging_utils: You are using an unsupported version of sklearn. If you encounter errors during autologging, try upgrading / downgrading sklearn to a supported version, or try upgrading MLflow.\n",
      "Registered model 'Multinomial Naive Bayes' already exists. Creating a new version of this model...\n",
      "2023/02/28 02:23:40 INFO mlflow.tracking._model_registry.client: Waiting up to 300 seconds for model version to finish creation.                     Model name: Multinomial Naive Bayes, version 19\n",
      "Created version '19' of model 'Multinomial Naive Bayes'.\n",
      "Registered model 'Multinomial Naive Bayes' already exists. Creating a new version of this model...\n",
      "2023/02/28 02:23:47 INFO mlflow.tracking._model_registry.client: Waiting up to 300 seconds for model version to finish creation.                     Model name: Multinomial Naive Bayes, version 20\n",
      "Created version '20' of model 'Multinomial Naive Bayes'.\n",
      "Registered model 'Multinomial Naive Bayes' already exists. Creating a new version of this model...\n",
      "2023/02/28 02:24:05 INFO mlflow.tracking._model_registry.client: Waiting up to 300 seconds for model version to finish creation.                     Model name: Multinomial Naive Bayes, version 21\n",
      "Created version '21' of model 'Multinomial Naive Bayes'.\n",
      "Registered model 'Multinomial Naive Bayes' already exists. Creating a new version of this model...\n",
      "2023/02/28 02:24:10 INFO mlflow.tracking._model_registry.client: Waiting up to 300 seconds for model version to finish creation.                     Model name: Multinomial Naive Bayes, version 22\n",
      "Created version '22' of model 'Multinomial Naive Bayes'.\n",
      "Registered model 'Multinomial Naive Bayes' already exists. Creating a new version of this model...\n",
      "2023/02/28 02:24:30 INFO mlflow.tracking._model_registry.client: Waiting up to 300 seconds for model version to finish creation.                     Model name: Multinomial Naive Bayes, version 23\n",
      "Created version '23' of model 'Multinomial Naive Bayes'.\n",
      "Registered model 'Multinomial Naive Bayes' already exists. Creating a new version of this model...\n",
      "2023/02/28 02:24:37 INFO mlflow.tracking._model_registry.client: Waiting up to 300 seconds for model version to finish creation.                     Model name: Multinomial Naive Bayes, version 24\n",
      "Created version '24' of model 'Multinomial Naive Bayes'.\n",
      "Registered model 'Multinomial Naive Bayes' already exists. Creating a new version of this model...\n",
      "2023/02/28 02:24:59 INFO mlflow.tracking._model_registry.client: Waiting up to 300 seconds for model version to finish creation.                     Model name: Multinomial Naive Bayes, version 25\n",
      "Created version '25' of model 'Multinomial Naive Bayes'.\n",
      "Registered model 'Multinomial Naive Bayes' already exists. Creating a new version of this model...\n",
      "2023/02/28 02:25:05 INFO mlflow.tracking._model_registry.client: Waiting up to 300 seconds for model version to finish creation.                     Model name: Multinomial Naive Bayes, version 26\n",
      "Created version '26' of model 'Multinomial Naive Bayes'.\n",
      "Registered model 'Multinomial Naive Bayes' already exists. Creating a new version of this model...\n",
      "2023/02/28 02:25:30 INFO mlflow.tracking._model_registry.client: Waiting up to 300 seconds for model version to finish creation.                     Model name: Multinomial Naive Bayes, version 27\n",
      "Created version '27' of model 'Multinomial Naive Bayes'.\n",
      "Registered model 'Multinomial Naive Bayes' already exists. Creating a new version of this model...\n",
      "2023/02/28 02:25:38 INFO mlflow.tracking._model_registry.client: Waiting up to 300 seconds for model version to finish creation.                     Model name: Multinomial Naive Bayes, version 28\n",
      "Created version '28' of model 'Multinomial Naive Bayes'.\n",
      "Registered model 'Multinomial Naive Bayes' already exists. Creating a new version of this model...\n",
      "2023/02/28 02:25:58 INFO mlflow.tracking._model_registry.client: Waiting up to 300 seconds for model version to finish creation.                     Model name: Multinomial Naive Bayes, version 29\n",
      "Created version '29' of model 'Multinomial Naive Bayes'.\n",
      "Registered model 'Multinomial Naive Bayes' already exists. Creating a new version of this model...\n",
      "2023/02/28 02:26:04 INFO mlflow.tracking._model_registry.client: Waiting up to 300 seconds for model version to finish creation.                     Model name: Multinomial Naive Bayes, version 30\n",
      "Created version '30' of model 'Multinomial Naive Bayes'.\n",
      "Registered model 'Multinomial Naive Bayes' already exists. Creating a new version of this model...\n",
      "2023/02/28 02:26:25 INFO mlflow.tracking._model_registry.client: Waiting up to 300 seconds for model version to finish creation.                     Model name: Multinomial Naive Bayes, version 31\n",
      "Created version '31' of model 'Multinomial Naive Bayes'.\n",
      "Registered model 'Multinomial Naive Bayes' already exists. Creating a new version of this model...\n",
      "2023/02/28 02:26:33 INFO mlflow.tracking._model_registry.client: Waiting up to 300 seconds for model version to finish creation.                     Model name: Multinomial Naive Bayes, version 32\n",
      "Created version '32' of model 'Multinomial Naive Bayes'.\n"
     ]
    },
    {
     "ename": "KeyboardInterrupt",
     "evalue": "",
     "output_type": "error",
     "traceback": [
      "\u001b[1;31m---------------------------------------------------------------------------\u001b[0m",
      "\u001b[1;31mKeyboardInterrupt\u001b[0m                         Traceback (most recent call last)",
      "Cell \u001b[1;32mIn[46], line 21\u001b[0m\n\u001b[0;32m     19\u001b[0m \u001b[39m#Logging JSON of confusion matrix\u001b[39;00m\n\u001b[0;32m     20\u001b[0m mlflow\u001b[39m.\u001b[39mlog_dict(np\u001b[39m.\u001b[39marray(model_metrics[\u001b[39m3\u001b[39m])\u001b[39m.\u001b[39mtolist(), \u001b[39m\"\u001b[39m\u001b[39mconfusion_matrix.json\u001b[39m\u001b[39m\"\u001b[39m)\n\u001b[1;32m---> 21\u001b[0m mlflow\u001b[39m.\u001b[39;49msklearn\u001b[39m.\u001b[39;49mlog_model(model_metrics[\u001b[39m0\u001b[39;49m], \u001b[39m\"\u001b[39;49m\u001b[39mmodel\u001b[39;49m\u001b[39m\"\u001b[39;49m)\n\u001b[0;32m     23\u001b[0m tracking_url_type_store \u001b[39m=\u001b[39m urlparse(mlflow\u001b[39m.\u001b[39mget_tracking_uri())\u001b[39m.\u001b[39mscheme\n\u001b[0;32m     24\u001b[0m mlflow\u001b[39m.\u001b[39msklearn\u001b[39m.\u001b[39mlog_model(\n\u001b[0;32m     25\u001b[0m     sk_model \u001b[39m=\u001b[39m model_metrics[\u001b[39m0\u001b[39m],\n\u001b[0;32m     26\u001b[0m     artifact_path\u001b[39m=\u001b[39m\u001b[39m\"\u001b[39m\u001b[39msklearn-model\u001b[39m\u001b[39m\"\u001b[39m,\n\u001b[0;32m     27\u001b[0m     registered_model_name\u001b[39m=\u001b[39m\u001b[39m\"\u001b[39m\u001b[39mMultinomial Naive Bayes\u001b[39m\u001b[39m\"\u001b[39m\n\u001b[0;32m     28\u001b[0m )\n",
      "File \u001b[1;32mc:\\Users\\PC\\anaconda3\\envs\\env_py39\\lib\\site-packages\\mlflow\\sklearn\\__init__.py:417\u001b[0m, in \u001b[0;36mlog_model\u001b[1;34m(sk_model, artifact_path, conda_env, code_paths, serialization_format, registered_model_name, signature, input_example, await_registration_for, pip_requirements, extra_pip_requirements, pyfunc_predict_fn, metadata)\u001b[0m\n\u001b[0;32m    325\u001b[0m \u001b[39m@format_docstring\u001b[39m(LOG_MODEL_PARAM_DOCS\u001b[39m.\u001b[39mformat(package_name\u001b[39m=\u001b[39m\u001b[39m\"\u001b[39m\u001b[39mscikit-learn\u001b[39m\u001b[39m\"\u001b[39m))\n\u001b[0;32m    326\u001b[0m \u001b[39mdef\u001b[39;00m \u001b[39mlog_model\u001b[39m(\n\u001b[0;32m    327\u001b[0m     sk_model,\n\u001b[1;32m   (...)\u001b[0m\n\u001b[0;32m    339\u001b[0m     metadata\u001b[39m=\u001b[39m\u001b[39mNone\u001b[39;00m,\n\u001b[0;32m    340\u001b[0m ):\n\u001b[0;32m    341\u001b[0m \u001b[39m    \u001b[39m\u001b[39m\"\"\"\u001b[39;00m\n\u001b[0;32m    342\u001b[0m \u001b[39m    Log a scikit-learn model as an MLflow artifact for the current run. Produces an MLflow Model\u001b[39;00m\n\u001b[0;32m    343\u001b[0m \u001b[39m    containing the following flavors:\u001b[39;00m\n\u001b[1;32m   (...)\u001b[0m\n\u001b[0;32m    415\u001b[0m \u001b[39m        mlflow.sklearn.log_model(sk_model, \"sk_models\")\u001b[39;00m\n\u001b[0;32m    416\u001b[0m \u001b[39m    \"\"\"\u001b[39;00m\n\u001b[1;32m--> 417\u001b[0m     \u001b[39mreturn\u001b[39;00m Model\u001b[39m.\u001b[39;49mlog(\n\u001b[0;32m    418\u001b[0m         artifact_path\u001b[39m=\u001b[39;49martifact_path,\n\u001b[0;32m    419\u001b[0m         flavor\u001b[39m=\u001b[39;49mmlflow\u001b[39m.\u001b[39;49msklearn,\n\u001b[0;32m    420\u001b[0m         sk_model\u001b[39m=\u001b[39;49msk_model,\n\u001b[0;32m    421\u001b[0m         conda_env\u001b[39m=\u001b[39;49mconda_env,\n\u001b[0;32m    422\u001b[0m         code_paths\u001b[39m=\u001b[39;49mcode_paths,\n\u001b[0;32m    423\u001b[0m         serialization_format\u001b[39m=\u001b[39;49mserialization_format,\n\u001b[0;32m    424\u001b[0m         registered_model_name\u001b[39m=\u001b[39;49mregistered_model_name,\n\u001b[0;32m    425\u001b[0m         signature\u001b[39m=\u001b[39;49msignature,\n\u001b[0;32m    426\u001b[0m         input_example\u001b[39m=\u001b[39;49minput_example,\n\u001b[0;32m    427\u001b[0m         await_registration_for\u001b[39m=\u001b[39;49mawait_registration_for,\n\u001b[0;32m    428\u001b[0m         pip_requirements\u001b[39m=\u001b[39;49mpip_requirements,\n\u001b[0;32m    429\u001b[0m         extra_pip_requirements\u001b[39m=\u001b[39;49mextra_pip_requirements,\n\u001b[0;32m    430\u001b[0m         pyfunc_predict_fn\u001b[39m=\u001b[39;49mpyfunc_predict_fn,\n\u001b[0;32m    431\u001b[0m         metadata\u001b[39m=\u001b[39;49mmetadata,\n\u001b[0;32m    432\u001b[0m     )\n",
      "File \u001b[1;32mc:\\Users\\PC\\anaconda3\\envs\\env_py39\\lib\\site-packages\\mlflow\\models\\model.py:486\u001b[0m, in \u001b[0;36mModel.log\u001b[1;34m(cls, artifact_path, flavor, registered_model_name, await_registration_for, metadata, **kwargs)\u001b[0m\n\u001b[0;32m    484\u001b[0m run_id \u001b[39m=\u001b[39m mlflow\u001b[39m.\u001b[39mtracking\u001b[39m.\u001b[39mfluent\u001b[39m.\u001b[39m_get_or_start_run()\u001b[39m.\u001b[39minfo\u001b[39m.\u001b[39mrun_id\n\u001b[0;32m    485\u001b[0m mlflow_model \u001b[39m=\u001b[39m \u001b[39mcls\u001b[39m(artifact_path\u001b[39m=\u001b[39martifact_path, run_id\u001b[39m=\u001b[39mrun_id, metadata\u001b[39m=\u001b[39mmetadata)\n\u001b[1;32m--> 486\u001b[0m flavor\u001b[39m.\u001b[39msave_model(path\u001b[39m=\u001b[39mlocal_path, mlflow_model\u001b[39m=\u001b[39mmlflow_model, \u001b[39m*\u001b[39m\u001b[39m*\u001b[39mkwargs)\n\u001b[0;32m    487\u001b[0m mlflow\u001b[39m.\u001b[39mtracking\u001b[39m.\u001b[39mfluent\u001b[39m.\u001b[39mlog_artifacts(local_path, mlflow_model\u001b[39m.\u001b[39martifact_path)\n\u001b[0;32m    488\u001b[0m \u001b[39mtry\u001b[39;00m:\n",
      "File \u001b[1;32mc:\\Users\\PC\\anaconda3\\envs\\env_py39\\lib\\site-packages\\mlflow\\sklearn\\__init__.py:296\u001b[0m, in \u001b[0;36msave_model\u001b[1;34m(sk_model, path, conda_env, code_paths, mlflow_model, serialization_format, signature, input_example, pip_requirements, extra_pip_requirements, pyfunc_predict_fn, metadata)\u001b[0m\n\u001b[0;32m    293\u001b[0m     default_reqs \u001b[39m=\u001b[39m get_default_pip_requirements(include_cloudpickle)\n\u001b[0;32m    294\u001b[0m     \u001b[39m# To ensure `_load_pyfunc` can successfully load the model during the dependency\u001b[39;00m\n\u001b[0;32m    295\u001b[0m     \u001b[39m# inference, `mlflow_model.save` must be called beforehand to save an MLmodel file.\u001b[39;00m\n\u001b[1;32m--> 296\u001b[0m     inferred_reqs \u001b[39m=\u001b[39m mlflow\u001b[39m.\u001b[39;49mmodels\u001b[39m.\u001b[39;49minfer_pip_requirements(\n\u001b[0;32m    297\u001b[0m         model_data_path,\n\u001b[0;32m    298\u001b[0m         FLAVOR_NAME,\n\u001b[0;32m    299\u001b[0m         fallback\u001b[39m=\u001b[39;49mdefault_reqs,\n\u001b[0;32m    300\u001b[0m     )\n\u001b[0;32m    301\u001b[0m     default_reqs \u001b[39m=\u001b[39m \u001b[39msorted\u001b[39m(\u001b[39mset\u001b[39m(inferred_reqs)\u001b[39m.\u001b[39munion(default_reqs))\n\u001b[0;32m    302\u001b[0m \u001b[39melse\u001b[39;00m:\n",
      "File \u001b[1;32mc:\\Users\\PC\\anaconda3\\envs\\env_py39\\lib\\site-packages\\mlflow\\utils\\environment.py:391\u001b[0m, in \u001b[0;36minfer_pip_requirements\u001b[1;34m(model_uri, flavor, fallback)\u001b[0m\n\u001b[0;32m    380\u001b[0m \u001b[39m\u001b[39m\u001b[39m\"\"\"\u001b[39;00m\n\u001b[0;32m    381\u001b[0m \u001b[39mInfers the pip requirements of the specified model by creating a subprocess and loading\u001b[39;00m\n\u001b[0;32m    382\u001b[0m \u001b[39mthe model in it to determine which packages are imported.\u001b[39;00m\n\u001b[1;32m   (...)\u001b[0m\n\u001b[0;32m    388\u001b[0m \u001b[39m:return: A list of inferred pip requirements (e.g. ``[\"scikit-learn==0.24.2\", ...]``).\u001b[39;00m\n\u001b[0;32m    389\u001b[0m \u001b[39m\"\"\"\u001b[39;00m\n\u001b[0;32m    390\u001b[0m \u001b[39mtry\u001b[39;00m:\n\u001b[1;32m--> 391\u001b[0m     \u001b[39mreturn\u001b[39;00m _infer_requirements(model_uri, flavor)\n\u001b[0;32m    392\u001b[0m \u001b[39mexcept\u001b[39;00m \u001b[39mException\u001b[39;00m:\n\u001b[0;32m    393\u001b[0m     \u001b[39mif\u001b[39;00m fallback \u001b[39mis\u001b[39;00m \u001b[39mnot\u001b[39;00m \u001b[39mNone\u001b[39;00m:\n",
      "File \u001b[1;32mc:\\Users\\PC\\anaconda3\\envs\\env_py39\\lib\\site-packages\\mlflow\\utils\\requirements_utils.py:381\u001b[0m, in \u001b[0;36m_infer_requirements\u001b[1;34m(model_uri, flavor)\u001b[0m\n\u001b[0;32m    378\u001b[0m \u001b[39mif\u001b[39;00m _PYPI_PACKAGE_INDEX \u001b[39mis\u001b[39;00m \u001b[39mNone\u001b[39;00m:\n\u001b[0;32m    379\u001b[0m     _PYPI_PACKAGE_INDEX \u001b[39m=\u001b[39m _load_pypi_package_index()\n\u001b[1;32m--> 381\u001b[0m modules \u001b[39m=\u001b[39m _capture_imported_modules(model_uri, flavor)\n\u001b[0;32m    382\u001b[0m packages \u001b[39m=\u001b[39m _flatten([_MODULES_TO_PACKAGES\u001b[39m.\u001b[39mget(module, []) \u001b[39mfor\u001b[39;00m module \u001b[39min\u001b[39;00m modules])\n\u001b[0;32m    383\u001b[0m packages \u001b[39m=\u001b[39m \u001b[39mmap\u001b[39m(_normalize_package_name, packages)\n",
      "File \u001b[1;32mc:\\Users\\PC\\anaconda3\\envs\\env_py39\\lib\\site-packages\\mlflow\\utils\\requirements_utils.py:284\u001b[0m, in \u001b[0;36m_capture_imported_modules\u001b[1;34m(model_uri, flavor)\u001b[0m\n\u001b[0;32m    278\u001b[0m \u001b[39m# Reset the path variable from the main process so that the subprocess retains all\u001b[39;00m\n\u001b[0;32m    279\u001b[0m \u001b[39m# main process configuration that a user has.\u001b[39;00m\n\u001b[0;32m    280\u001b[0m \u001b[39m# See: ``https://github.com/mlflow/mlflow/issues/6905`` for context on minio configuration\u001b[39;00m\n\u001b[0;32m    281\u001b[0m \u001b[39m# resolution in a subprocess based on PATH entries.\u001b[39;00m\n\u001b[0;32m    282\u001b[0m main_env[\u001b[39m\"\u001b[39m\u001b[39mPATH\u001b[39m\u001b[39m\"\u001b[39m] \u001b[39m=\u001b[39m \u001b[39m\"\u001b[39m\u001b[39m/usr/sbin:/sbin:\u001b[39m\u001b[39m\"\u001b[39m \u001b[39m+\u001b[39m main_env[\u001b[39m\"\u001b[39m\u001b[39mPATH\u001b[39m\u001b[39m\"\u001b[39m]\n\u001b[1;32m--> 284\u001b[0m _run_command(\n\u001b[0;32m    285\u001b[0m     [\n\u001b[0;32m    286\u001b[0m         sys\u001b[39m.\u001b[39;49mexecutable,\n\u001b[0;32m    287\u001b[0m         _capture_modules\u001b[39m.\u001b[39;49m\u001b[39m__file__\u001b[39;49m,\n\u001b[0;32m    288\u001b[0m         \u001b[39m\"\u001b[39;49m\u001b[39m--model-path\u001b[39;49m\u001b[39m\"\u001b[39;49m,\n\u001b[0;32m    289\u001b[0m         local_model_path,\n\u001b[0;32m    290\u001b[0m         \u001b[39m\"\u001b[39;49m\u001b[39m--flavor\u001b[39;49m\u001b[39m\"\u001b[39;49m,\n\u001b[0;32m    291\u001b[0m         flavor,\n\u001b[0;32m    292\u001b[0m         \u001b[39m\"\u001b[39;49m\u001b[39m--output-file\u001b[39;49m\u001b[39m\"\u001b[39;49m,\n\u001b[0;32m    293\u001b[0m         output_file,\n\u001b[0;32m    294\u001b[0m         \u001b[39m\"\u001b[39;49m\u001b[39m--sys-path\u001b[39;49m\u001b[39m\"\u001b[39;49m,\n\u001b[0;32m    295\u001b[0m         json\u001b[39m.\u001b[39;49mdumps(sys\u001b[39m.\u001b[39;49mpath),\n\u001b[0;32m    296\u001b[0m     ],\n\u001b[0;32m    297\u001b[0m     timeout_seconds\u001b[39m=\u001b[39;49mprocess_timeout,\n\u001b[0;32m    298\u001b[0m     env\u001b[39m=\u001b[39;49mmain_env,\n\u001b[0;32m    299\u001b[0m )\n\u001b[0;32m    300\u001b[0m \u001b[39mwith\u001b[39;00m \u001b[39mopen\u001b[39m(output_file) \u001b[39mas\u001b[39;00m f:\n\u001b[0;32m    301\u001b[0m     \u001b[39mreturn\u001b[39;00m f\u001b[39m.\u001b[39mread()\u001b[39m.\u001b[39msplitlines()\n",
      "File \u001b[1;32mc:\\Users\\PC\\anaconda3\\envs\\env_py39\\lib\\site-packages\\mlflow\\utils\\requirements_utils.py:211\u001b[0m, in \u001b[0;36m_run_command\u001b[1;34m(cmd, timeout_seconds, env)\u001b[0m\n\u001b[0;32m    209\u001b[0m \u001b[39mtry\u001b[39;00m:\n\u001b[0;32m    210\u001b[0m     timer\u001b[39m.\u001b[39mstart()\n\u001b[1;32m--> 211\u001b[0m     stdout, stderr \u001b[39m=\u001b[39m proc\u001b[39m.\u001b[39;49mcommunicate()\n\u001b[0;32m    212\u001b[0m     stdout \u001b[39m=\u001b[39m stdout\u001b[39m.\u001b[39mdecode(\u001b[39m\"\u001b[39m\u001b[39mutf-8\u001b[39m\u001b[39m\"\u001b[39m)\n\u001b[0;32m    213\u001b[0m     stderr \u001b[39m=\u001b[39m stderr\u001b[39m.\u001b[39mdecode(\u001b[39m\"\u001b[39m\u001b[39mutf-8\u001b[39m\u001b[39m\"\u001b[39m)\n",
      "File \u001b[1;32mc:\\Users\\PC\\anaconda3\\envs\\env_py39\\lib\\subprocess.py:1134\u001b[0m, in \u001b[0;36mPopen.communicate\u001b[1;34m(self, input, timeout)\u001b[0m\n\u001b[0;32m   1131\u001b[0m     endtime \u001b[39m=\u001b[39m \u001b[39mNone\u001b[39;00m\n\u001b[0;32m   1133\u001b[0m \u001b[39mtry\u001b[39;00m:\n\u001b[1;32m-> 1134\u001b[0m     stdout, stderr \u001b[39m=\u001b[39m \u001b[39mself\u001b[39;49m\u001b[39m.\u001b[39;49m_communicate(\u001b[39minput\u001b[39;49m, endtime, timeout)\n\u001b[0;32m   1135\u001b[0m \u001b[39mexcept\u001b[39;00m \u001b[39mKeyboardInterrupt\u001b[39;00m:\n\u001b[0;32m   1136\u001b[0m     \u001b[39m# https://bugs.python.org/issue25942\u001b[39;00m\n\u001b[0;32m   1137\u001b[0m     \u001b[39m# See the detailed comment in .wait().\u001b[39;00m\n\u001b[0;32m   1138\u001b[0m     \u001b[39mif\u001b[39;00m timeout \u001b[39mis\u001b[39;00m \u001b[39mnot\u001b[39;00m \u001b[39mNone\u001b[39;00m:\n",
      "File \u001b[1;32mc:\\Users\\PC\\anaconda3\\envs\\env_py39\\lib\\subprocess.py:1508\u001b[0m, in \u001b[0;36mPopen._communicate\u001b[1;34m(self, input, endtime, orig_timeout)\u001b[0m\n\u001b[0;32m   1504\u001b[0m \u001b[39m# Wait for the reader threads, or time out.  If we time out, the\u001b[39;00m\n\u001b[0;32m   1505\u001b[0m \u001b[39m# threads remain reading and the fds left open in case the user\u001b[39;00m\n\u001b[0;32m   1506\u001b[0m \u001b[39m# calls communicate again.\u001b[39;00m\n\u001b[0;32m   1507\u001b[0m \u001b[39mif\u001b[39;00m \u001b[39mself\u001b[39m\u001b[39m.\u001b[39mstdout \u001b[39mis\u001b[39;00m \u001b[39mnot\u001b[39;00m \u001b[39mNone\u001b[39;00m:\n\u001b[1;32m-> 1508\u001b[0m     \u001b[39mself\u001b[39;49m\u001b[39m.\u001b[39;49mstdout_thread\u001b[39m.\u001b[39;49mjoin(\u001b[39mself\u001b[39;49m\u001b[39m.\u001b[39;49m_remaining_time(endtime))\n\u001b[0;32m   1509\u001b[0m     \u001b[39mif\u001b[39;00m \u001b[39mself\u001b[39m\u001b[39m.\u001b[39mstdout_thread\u001b[39m.\u001b[39mis_alive():\n\u001b[0;32m   1510\u001b[0m         \u001b[39mraise\u001b[39;00m TimeoutExpired(\u001b[39mself\u001b[39m\u001b[39m.\u001b[39margs, orig_timeout)\n",
      "File \u001b[1;32mc:\\Users\\PC\\anaconda3\\envs\\env_py39\\lib\\threading.py:1060\u001b[0m, in \u001b[0;36mThread.join\u001b[1;34m(self, timeout)\u001b[0m\n\u001b[0;32m   1057\u001b[0m     \u001b[39mraise\u001b[39;00m \u001b[39mRuntimeError\u001b[39;00m(\u001b[39m\"\u001b[39m\u001b[39mcannot join current thread\u001b[39m\u001b[39m\"\u001b[39m)\n\u001b[0;32m   1059\u001b[0m \u001b[39mif\u001b[39;00m timeout \u001b[39mis\u001b[39;00m \u001b[39mNone\u001b[39;00m:\n\u001b[1;32m-> 1060\u001b[0m     \u001b[39mself\u001b[39;49m\u001b[39m.\u001b[39;49m_wait_for_tstate_lock()\n\u001b[0;32m   1061\u001b[0m \u001b[39melse\u001b[39;00m:\n\u001b[0;32m   1062\u001b[0m     \u001b[39m# the behavior of a negative timeout isn't documented, but\u001b[39;00m\n\u001b[0;32m   1063\u001b[0m     \u001b[39m# historically .join(timeout=x) for x<0 has acted as if timeout=0\u001b[39;00m\n\u001b[0;32m   1064\u001b[0m     \u001b[39mself\u001b[39m\u001b[39m.\u001b[39m_wait_for_tstate_lock(timeout\u001b[39m=\u001b[39m\u001b[39mmax\u001b[39m(timeout, \u001b[39m0\u001b[39m))\n",
      "File \u001b[1;32mc:\\Users\\PC\\anaconda3\\envs\\env_py39\\lib\\threading.py:1080\u001b[0m, in \u001b[0;36mThread._wait_for_tstate_lock\u001b[1;34m(self, block, timeout)\u001b[0m\n\u001b[0;32m   1077\u001b[0m     \u001b[39mreturn\u001b[39;00m\n\u001b[0;32m   1079\u001b[0m \u001b[39mtry\u001b[39;00m:\n\u001b[1;32m-> 1080\u001b[0m     \u001b[39mif\u001b[39;00m lock\u001b[39m.\u001b[39;49macquire(block, timeout):\n\u001b[0;32m   1081\u001b[0m         lock\u001b[39m.\u001b[39mrelease()\n\u001b[0;32m   1082\u001b[0m         \u001b[39mself\u001b[39m\u001b[39m.\u001b[39m_stop()\n",
      "\u001b[1;31mKeyboardInterrupt\u001b[0m: "
     ]
    }
   ],
   "source": [
    "mlflow.set_tracking_uri('\\mlruns')\n",
    "mlflow.sklearn.autolog()\n",
    "\n",
    "md_name = \"Multinomial Naive Bayes\" \n",
    "\n",
    "for i in np.arange(0.05, 2.25, 0.25):\n",
    "    with mlflow.start_run(run_name = f\"Model : {md_name}, Alpha : {i}\"):\n",
    "        \n",
    "        #Log parameters\n",
    "        mlflow.log_param(\"Alpha\",i)\n",
    "\n",
    "        #Running the model\n",
    "        model_metrics = MNB_model(i)\n",
    "\n",
    "        #Logging metrics\n",
    "        mlflow.log_metric(\"Accuracy\", model_metrics[1])\n",
    "        mlflow.log_metric(\"AUPCR\", model_metrics[2])\n",
    "\n",
    "        #Logging JSON of confusion matrix\n",
    "        mlflow.log_dict(np.array(model_metrics[3]).tolist(), \"confusion_matrix.json\")\n",
    "        mlflow.sklearn.log_model(model_metrics[0], \"model\")\n",
    "\n",
    "        tracking_url_type_store = urlparse(mlflow.get_tracking_uri()).scheme\n",
    "        mlflow.sklearn.log_model(\n",
    "            sk_model = model_metrics[0],\n",
    "            artifact_path=\"sklearn-model\",\n",
    "            registered_model_name=\"Multinomial Naive Bayes\"\n",
    "        )\n",
    "        if tracking_url_type_store != \"file\":\n",
    "            mlflow.sklearn.log_model(model_metrics[0], \"model\", registered_model_name=\"Multinomial Naive Bayes\")\n",
    "        else:\n",
    "          mlflow.sklearn.log_model(model_metrics[0], \"model\")\n",
    "\n",
    "        \n"
   ]
  },
  {
   "cell_type": "code",
   "execution_count": 36,
   "metadata": {},
   "outputs": [
    {
     "name": "stderr",
     "output_type": "stream",
     "text": [
      "2023/02/28 01:46:23 WARNING mlflow.utils.autologging_utils: You are using an unsupported version of sklearn. If you encounter errors during autologging, try upgrading / downgrading sklearn to a supported version, or try upgrading MLflow.\n",
      "Successfully registered model 'Logistic Regression'.\n",
      "2023/02/28 01:46:46 INFO mlflow.tracking._model_registry.client: Waiting up to 300 seconds for model version to finish creation.                     Model name: Logistic Regression, version 1\n",
      "Created version '1' of model 'Logistic Regression'.\n",
      "Registered model 'Logistic Regression' already exists. Creating a new version of this model...\n",
      "2023/02/28 01:46:54 INFO mlflow.tracking._model_registry.client: Waiting up to 300 seconds for model version to finish creation.                     Model name: Logistic Regression, version 2\n",
      "Created version '2' of model 'Logistic Regression'.\n",
      "Registered model 'Logistic Regression' already exists. Creating a new version of this model...\n",
      "2023/02/28 01:47:20 INFO mlflow.tracking._model_registry.client: Waiting up to 300 seconds for model version to finish creation.                     Model name: Logistic Regression, version 3\n",
      "Created version '3' of model 'Logistic Regression'.\n",
      "Registered model 'Logistic Regression' already exists. Creating a new version of this model...\n",
      "2023/02/28 01:47:27 INFO mlflow.tracking._model_registry.client: Waiting up to 300 seconds for model version to finish creation.                     Model name: Logistic Regression, version 4\n",
      "Created version '4' of model 'Logistic Regression'.\n",
      "Registered model 'Logistic Regression' already exists. Creating a new version of this model...\n",
      "2023/02/28 01:47:46 INFO mlflow.tracking._model_registry.client: Waiting up to 300 seconds for model version to finish creation.                     Model name: Logistic Regression, version 5\n",
      "Created version '5' of model 'Logistic Regression'.\n",
      "Registered model 'Logistic Regression' already exists. Creating a new version of this model...\n",
      "2023/02/28 01:47:53 INFO mlflow.tracking._model_registry.client: Waiting up to 300 seconds for model version to finish creation.                     Model name: Logistic Regression, version 6\n",
      "Created version '6' of model 'Logistic Regression'.\n",
      "Registered model 'Logistic Regression' already exists. Creating a new version of this model...\n",
      "2023/02/28 01:48:17 INFO mlflow.tracking._model_registry.client: Waiting up to 300 seconds for model version to finish creation.                     Model name: Logistic Regression, version 7\n",
      "Created version '7' of model 'Logistic Regression'.\n",
      "Registered model 'Logistic Regression' already exists. Creating a new version of this model...\n",
      "2023/02/28 01:48:23 INFO mlflow.tracking._model_registry.client: Waiting up to 300 seconds for model version to finish creation.                     Model name: Logistic Regression, version 8\n",
      "Created version '8' of model 'Logistic Regression'.\n",
      "Registered model 'Logistic Regression' already exists. Creating a new version of this model...\n",
      "2023/02/28 01:48:43 INFO mlflow.tracking._model_registry.client: Waiting up to 300 seconds for model version to finish creation.                     Model name: Logistic Regression, version 9\n",
      "Created version '9' of model 'Logistic Regression'.\n",
      "Registered model 'Logistic Regression' already exists. Creating a new version of this model...\n",
      "2023/02/28 01:48:50 INFO mlflow.tracking._model_registry.client: Waiting up to 300 seconds for model version to finish creation.                     Model name: Logistic Regression, version 10\n",
      "Created version '10' of model 'Logistic Regression'.\n",
      "Registered model 'Logistic Regression' already exists. Creating a new version of this model...\n",
      "2023/02/28 01:49:11 INFO mlflow.tracking._model_registry.client: Waiting up to 300 seconds for model version to finish creation.                     Model name: Logistic Regression, version 11\n",
      "Created version '11' of model 'Logistic Regression'.\n",
      "Registered model 'Logistic Regression' already exists. Creating a new version of this model...\n",
      "2023/02/28 01:49:17 INFO mlflow.tracking._model_registry.client: Waiting up to 300 seconds for model version to finish creation.                     Model name: Logistic Regression, version 12\n",
      "Created version '12' of model 'Logistic Regression'.\n",
      "Registered model 'Logistic Regression' already exists. Creating a new version of this model...\n",
      "2023/02/28 01:49:35 INFO mlflow.tracking._model_registry.client: Waiting up to 300 seconds for model version to finish creation.                     Model name: Logistic Regression, version 13\n",
      "Created version '13' of model 'Logistic Regression'.\n",
      "Registered model 'Logistic Regression' already exists. Creating a new version of this model...\n",
      "2023/02/28 01:49:40 INFO mlflow.tracking._model_registry.client: Waiting up to 300 seconds for model version to finish creation.                     Model name: Logistic Regression, version 14\n",
      "Created version '14' of model 'Logistic Regression'.\n"
     ]
    }
   ],
   "source": [
    "mlflow.set_tracking_uri('\\mlruns')\n",
    "mlflow.sklearn.autolog()\n",
    "\n",
    "md_name = \"Logistic Regression\"\n",
    "\n",
    "for i in [0.1, 0.5, 1, 10, 20, 50, 100]:\n",
    "    with mlflow.start_run(run_name = f\"Model : {md_name}, C : {i}\"):\n",
    "        \n",
    "        #Log parameters\n",
    "        mlflow.log_param(\"C\",i)\n",
    "\n",
    "        #Running the model\n",
    "        model_metrics = Log_model(i)\n",
    "\n",
    "        #Logging metrics\n",
    "        mlflow.log_metric(\"Accuracy\", model_metrics[1])\n",
    "        mlflow.log_metric(\"AUPCR\", model_metrics[2])\n",
    "\n",
    "        #Logging JSON of confusion matrix\n",
    "        mlflow.log_dict(np.array(model_metrics[3]).tolist(), \"confusion_matrix.json\")\n",
    "        mlflow.sklearn.log_model(model_metrics[0], \"model\")\n",
    "\n",
    "        tracking_url_type_store = urlparse(mlflow.get_tracking_uri()).scheme\n",
    "        mlflow.sklearn.log_model(\n",
    "            sk_model = model_metrics[0],\n",
    "            artifact_path=\"sklearn-model\",\n",
    "            registered_model_name=\"Logistic Regression\"\n",
    "        )\n",
    "        if tracking_url_type_store != \"file\":\n",
    "            mlflow.sklearn.log_model(model_metrics[0], \"model\", registered_model_name = \"Logistic Regression\")\n",
    "        else:\n",
    "          mlflow.sklearn.log_model(model_metrics[0], \"model\")\n",
    "\n",
    "        \n"
   ]
  },
  {
   "cell_type": "code",
   "execution_count": 44,
   "metadata": {},
   "outputs": [
    {
     "name": "stderr",
     "output_type": "stream",
     "text": [
      "2023/02/28 02:09:44 WARNING mlflow.utils.autologging_utils: You are using an unsupported version of sklearn. If you encounter errors during autologging, try upgrading / downgrading sklearn to a supported version, or try upgrading MLflow.\n",
      "Successfully registered model 'Support Vector Classifier Model'.\n",
      "2023/02/28 02:10:16 INFO mlflow.tracking._model_registry.client: Waiting up to 300 seconds for model version to finish creation.                     Model name: Support Vector Classifier Model, version 1\n",
      "Created version '1' of model 'Support Vector Classifier Model'.\n",
      "Registered model 'Support Vector Classifier Model' already exists. Creating a new version of this model...\n",
      "2023/02/28 02:10:23 INFO mlflow.tracking._model_registry.client: Waiting up to 300 seconds for model version to finish creation.                     Model name: Support Vector Classifier Model, version 2\n",
      "Created version '2' of model 'Support Vector Classifier Model'.\n",
      "Registered model 'Support Vector Classifier Model' already exists. Creating a new version of this model...\n",
      "2023/02/28 02:10:56 INFO mlflow.tracking._model_registry.client: Waiting up to 300 seconds for model version to finish creation.                     Model name: Support Vector Classifier Model, version 3\n",
      "Created version '3' of model 'Support Vector Classifier Model'.\n",
      "Registered model 'Support Vector Classifier Model' already exists. Creating a new version of this model...\n",
      "2023/02/28 02:11:04 INFO mlflow.tracking._model_registry.client: Waiting up to 300 seconds for model version to finish creation.                     Model name: Support Vector Classifier Model, version 4\n",
      "Created version '4' of model 'Support Vector Classifier Model'.\n",
      "Registered model 'Support Vector Classifier Model' already exists. Creating a new version of this model...\n",
      "2023/02/28 02:11:34 INFO mlflow.tracking._model_registry.client: Waiting up to 300 seconds for model version to finish creation.                     Model name: Support Vector Classifier Model, version 5\n",
      "Created version '5' of model 'Support Vector Classifier Model'.\n",
      "Registered model 'Support Vector Classifier Model' already exists. Creating a new version of this model...\n",
      "2023/02/28 02:11:42 INFO mlflow.tracking._model_registry.client: Waiting up to 300 seconds for model version to finish creation.                     Model name: Support Vector Classifier Model, version 6\n",
      "Created version '6' of model 'Support Vector Classifier Model'.\n",
      "Registered model 'Support Vector Classifier Model' already exists. Creating a new version of this model...\n",
      "2023/02/28 02:12:11 INFO mlflow.tracking._model_registry.client: Waiting up to 300 seconds for model version to finish creation.                     Model name: Support Vector Classifier Model, version 7\n",
      "Created version '7' of model 'Support Vector Classifier Model'.\n",
      "Registered model 'Support Vector Classifier Model' already exists. Creating a new version of this model...\n",
      "2023/02/28 02:12:17 INFO mlflow.tracking._model_registry.client: Waiting up to 300 seconds for model version to finish creation.                     Model name: Support Vector Classifier Model, version 8\n",
      "Created version '8' of model 'Support Vector Classifier Model'.\n",
      "Registered model 'Support Vector Classifier Model' already exists. Creating a new version of this model...\n",
      "2023/02/28 02:12:54 INFO mlflow.tracking._model_registry.client: Waiting up to 300 seconds for model version to finish creation.                     Model name: Support Vector Classifier Model, version 9\n",
      "Created version '9' of model 'Support Vector Classifier Model'.\n",
      "Registered model 'Support Vector Classifier Model' already exists. Creating a new version of this model...\n",
      "2023/02/28 02:13:02 INFO mlflow.tracking._model_registry.client: Waiting up to 300 seconds for model version to finish creation.                     Model name: Support Vector Classifier Model, version 10\n",
      "Created version '10' of model 'Support Vector Classifier Model'.\n",
      "Registered model 'Support Vector Classifier Model' already exists. Creating a new version of this model...\n",
      "2023/02/28 02:13:34 INFO mlflow.tracking._model_registry.client: Waiting up to 300 seconds for model version to finish creation.                     Model name: Support Vector Classifier Model, version 11\n",
      "Created version '11' of model 'Support Vector Classifier Model'.\n",
      "Registered model 'Support Vector Classifier Model' already exists. Creating a new version of this model...\n",
      "2023/02/28 02:13:41 INFO mlflow.tracking._model_registry.client: Waiting up to 300 seconds for model version to finish creation.                     Model name: Support Vector Classifier Model, version 12\n",
      "Created version '12' of model 'Support Vector Classifier Model'.\n",
      "Registered model 'Support Vector Classifier Model' already exists. Creating a new version of this model...\n",
      "2023/02/28 02:14:18 INFO mlflow.tracking._model_registry.client: Waiting up to 300 seconds for model version to finish creation.                     Model name: Support Vector Classifier Model, version 13\n",
      "Created version '13' of model 'Support Vector Classifier Model'.\n",
      "Registered model 'Support Vector Classifier Model' already exists. Creating a new version of this model...\n",
      "2023/02/28 02:14:25 INFO mlflow.tracking._model_registry.client: Waiting up to 300 seconds for model version to finish creation.                     Model name: Support Vector Classifier Model, version 14\n",
      "Created version '14' of model 'Support Vector Classifier Model'.\n"
     ]
    }
   ],
   "source": [
    "mlflow.sklearn.autolog()\n",
    "\n",
    "md_name = \"Support Vector Classifier Model\"\n",
    "\n",
    "for i in [0.1, 0.5, 1, 10, 20, 50, 100]:\n",
    "    with mlflow.start_run(run_name = f\"Model : {md_name}, C : {i}\"):\n",
    "        \n",
    "        #Log parameters\n",
    "        mlflow.log_param(\"C\",i)\n",
    "\n",
    "        #Running the model\n",
    "        model_metrics = SVC_Model(i)\n",
    "\n",
    "        #Logging metrics\n",
    "        mlflow.log_metric(\"Accuracy\", model_metrics[1])\n",
    "        mlflow.log_metric(\"AUPCR\", model_metrics[2])\n",
    "\n",
    "        #Logging JSON of confusion matrix\n",
    "        mlflow.log_dict(np.array(model_metrics[3]).tolist(), \"confusion_matrix.json\")\n",
    "        mlflow.sklearn.log_model(model_metrics[0], \"model\")\n",
    "\n",
    "        tracking_url_type_store = urlparse(mlflow.get_tracking_uri()).scheme\n",
    "        mlflow.sklearn.log_model(\n",
    "            sk_model = model_metrics[0],\n",
    "            artifact_path=\"sklearn-model\",\n",
    "            registered_model_name = \"Support Vector Classifier Model\"\n",
    "        )\n",
    "        if tracking_url_type_store != \"file\":\n",
    "            mlflow.sklearn.log_model(model_metrics[0], \"model\", registered_model_name = \"Support Vector Classifier Model\")\n",
    "        else:\n",
    "          mlflow.sklearn.log_model(model_metrics[0], \"model\")\n",
    "\n",
    "        \n"
   ]
  },
  {
   "cell_type": "code",
   "execution_count": 95,
   "metadata": {},
   "outputs": [],
   "source": [
    "mlflow.set_experiment('SMS Spam Classification Model Evaluation')\n",
    "#Running the models and logging the runs with MLFlow\n",
    "md_name = \"Multinomial Naive Bayes\" \n",
    "for i in np.arange(0.05, 2.25, 0.25):\n",
    "    with mlflow.start_run() as run: #inside brackets run_name='test'\n",
    "        #Log parameters\n",
    "        mlflow.log_param(\"Model\",md_name)\n",
    "        mlflow.log_param(\"Alpha\",i)\n",
    "        #Running the model\n",
    "        model_metrics = MNB_model(i)\n",
    "        #Logging metrics\n",
    "        mlflow.log_metric(\"Accuracy\", model_metrics[0])\n",
    "        mlflow.log_metric(\"AUPCR\", model_metrics[1])\n",
    "\n",
    "md_name = \"Logistic Regression\"\n",
    "for i in [0.1, 0.5, 1, 10, 20, 50, 100]:\n",
    "    with mlflow.start_run() as run: \n",
    "        #Log parameters\n",
    "        mlflow.log_param(\"Model\",md_name)\n",
    "        mlflow.log_param(\"C\",i)\n",
    "        #Running the model\n",
    "        model_metrics = Log_model(i)\n",
    "        #Logging metrics\n",
    "        mlflow.log_metric(\"Accuracy\", model_metrics[0])\n",
    "        mlflow.log_metric(\"AUPCR\", model_metrics[1])\n",
    "\n",
    "\n",
    "md_name = \"Support Vector Classifier\"\n",
    "for i in [0.1, 0.5, 1, 10, 20, 50, 100]:\n",
    "    with mlflow.start_run() as run: \n",
    "        #Log parameters\n",
    "        mlflow.log_param(\"Model\",md_name)\n",
    "        mlflow.log_param(\"Alpha\",i)\n",
    "        #Running the model\n",
    "        model_metrics = MNB_model(i)\n",
    "        #Logging metrics\n",
    "        mlflow.log_metric(\"Accuracy\", model_metrics[0])\n",
    "        mlflow.log_metric(\"AUPCR\", model_metrics[1])\n",
    "        \n"
   ]
  }
 ],
 "metadata": {
  "kernelspec": {
   "display_name": "env_py39",
   "language": "python",
   "name": "python3"
  },
  "language_info": {
   "codemirror_mode": {
    "name": "ipython",
    "version": 3
   },
   "file_extension": ".py",
   "mimetype": "text/x-python",
   "name": "python",
   "nbconvert_exporter": "python",
   "pygments_lexer": "ipython3",
   "version": "3.9.16"
  },
  "orig_nbformat": 4,
  "vscode": {
   "interpreter": {
    "hash": "9839ce3c6acaca560491e1b41f8b46d426659617553cc8a88a5826e3aaa30400"
   }
  }
 },
 "nbformat": 4,
 "nbformat_minor": 2
}
